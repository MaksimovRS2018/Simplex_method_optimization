{
 "cells": [
  {
   "cell_type": "markdown",
   "metadata": {},
   "source": [
    "<html>\n",
    "<head>\n",
    "\t<title></title>\n",
    "</head>\n",
    "<body>\n",
    "<h1 style=\"text-align: center;line-height: 120%;\">ФЕДЕРАЛЬНОЕ ГОСУДАРСТВЕННОЕ БЮДЖЕТНОЕ ОБРАЗОВАТЕЛЬНОЕ УЧРЕЖДЕНИЕ ВЫСШЕГО ОБРАЗОВАНИЯ НАЦИОНАЛЬНЫЙ ИССЛЕДОВАТЕЛЬСКИЙ УНИВЕРСИТЕТ «МОСКОВСКИЙ ЭНЕРГЕТИЧЕСКИЙ ИНСТИТУТ» Кафедра «РЗиАЭ»</h1>\n",
    "<h2 style=\"text-align: center;line-height: 20%;\">Лабораторная работа №3</h2>\n",
    "\n",
    "<h3 style=\"text-align: center;line-height: 80%;\"><em>Симплекс-метод</em></h3>\n",
    "\n",
    "<p style=\"text-align: right;line-height: 40%;\">Выполнил: студент группы Э-13м-19</p>\n",
    "<p style=\"text-align: right;line-height: 40%;\">Максимов Р.С.</p>\n",
    "\n",
    "<p style=\"text-align: right;line-height: 40%;\">Принял: Грачева Н. П.</p>\n",
    "<h4 style=\"text-align: center;line-height: 100%;\"><em> Москва, 2020</em></h3>\n",
    "</body>\n",
    "</html>"
   ]
  },
  {
   "cell_type": "code",
   "execution_count": 1,
   "metadata": {},
   "outputs": [],
   "source": [
    "import numpy as np\n",
    "import time\n",
    "import random \n",
    "import scipy\n",
    "from scipy import spatial\n",
    "import math"
   ]
  },
  {
   "cell_type": "markdown",
   "metadata": {},
   "source": [
    "Для реализации трех групп товаров коммерческое предприятие располагает тремя видами ограниченных материально-денежных ресурсов в количестве b1, b2, b3, единиц. При этом для продажи 1 группы товаров на 1 тыс. руб. товарооборота расходуется ресурса первого вида в количестве a11 единиц, ресурса второго вида в количестве a21 единиц, ресурса третьего вида в количестве a31 единиц. Для продажи 2 и 3 групп товаров на 1 тыс. руб. товарооборота расходуется соответственно ресурса первого вида в количестве a12, a13 единиц, ресурсов второго вида в количестве a22, a23 единиц, ресурсов третьего вида в количестве a32, a33 единиц. Прибыль от продажи трех групп товаров на 1 тыс. руб. товарооборота составляет соответственно c1, c2, c3 тыс. руб"
   ]
  },
  {
   "cell_type": "markdown",
   "metadata": {},
   "source": [
    "Необходимо, определить плановый объем и структуру товарооборота так, чтобы прибыль торгового предприятия была максимальной."
   ]
  },
  {
   "cell_type": "code",
   "execution_count": 86,
   "metadata": {},
   "outputs": [],
   "source": [
    "def search_min(f):\n",
    "    minimum = 9*max(f)\n",
    "#     print(f)\n",
    "    for i in range(len(f)):        \n",
    "        if f[i] < minimum and (round(f[i],3) < 0.):\n",
    "            minimum = f[i]\n",
    "#             print(minimum)\n",
    "    return minimum\n",
    "        \n",
    "        "
   ]
  },
  {
   "cell_type": "code",
   "execution_count": 93,
   "metadata": {},
   "outputs": [],
   "source": [
    "def simplex_method(a,b,F):\n",
    "    b = np.array(b)\n",
    "    F = np.array(F)\n",
    "    F = F*-1\n",
    "    a.extend([F])\n",
    "    allTable = np.array(a)    \n",
    "#     print(allTable) \n",
    "    y = np.eye(len(b),len(b)-1)\n",
    "    b = np.hstack((b,[0]))\n",
    "    b_column = b.reshape(len(b),1)\n",
    "    y = np.eye(len(b),len(b)-1) #для добавления,формирования конечной матрицы\n",
    "    g = np.hstack((allTable, y)) \n",
    "    end_table = np.hstack((g, b_column)) # матрица\n",
    "    last_row = end_table.shape[0]-1\n",
    "    last_colomn = end_table.shape[1]-1\n",
    "    \n",
    "    min_number_row = search_min(end_table[last_row,:])\n",
    "    print(min_number_row)\n",
    "    i,  = np.where(end_table[last_row,:] == min_number_row)\n",
    "#     print(type(i))\n",
    "    print(i)\n",
    "    i = int(i)\n",
    "    \n",
    "    bases = np.arange(len(F)+1,last_colomn+1)\n",
    "#     print(bases)\n",
    "    iks = np.arange(1,len(F)+1)\n",
    "    \n",
    "    while min_number_row < 0:\n",
    "        print('Актуальная матрица = ', end_table)\n",
    "        #находим индекс самого минимального и отрицательного элемента\n",
    "        i,  = np.where(end_table[last_row,:] == min_number_row)\n",
    "        i = int(i)\n",
    "        print(\"Индекс минимального элемента в последней строке = \", i)\n",
    "        #нулевой разрешающий столбец\n",
    "        column = np.zeros((len(b),1))\n",
    "        #формируем разрешающий стобец\n",
    "        for j in range(len(b)):\n",
    "            column[j,0] = np.abs(end_table[j,last_colomn] / end_table[j,i])\n",
    "        print(\"Дополнительный столбец = \", column)\n",
    "        #находим минимальное число из разрешающего столбца\n",
    "        min_number_column = min(column[:len(column)-1,0]) #все кроме последнего элемента(он ноль)\n",
    "        print(\"Мин. число из дополнительного столбца = \", min_number_column)\n",
    "        #находим индекс, таким образом, находим разрешающуюю строку\n",
    "        k,  = np.where(column[:,0] == min_number_column)\n",
    "        print(\"Индекс минимального элемента в дополнительном столбце = \", k)\n",
    "        k = int(k)\n",
    "        #Изменяем текущий базис\n",
    "        bases[k] = i + 1\n",
    "        #находим разрешающий коэф\n",
    "        enable_coef = (end_table[k,i])\n",
    "#         print('Разрешающий коэф = ',enable_coef)\n",
    "        #делим разрещающую строку на разрешающий коэф.\n",
    "        end_table[k,:] = end_table[k,:] / enable_coef\n",
    "        #формируем нулевую разрешающую строку\n",
    "        enable_row = end_table[k,:]\n",
    "        for m in range(end_table.shape[0]):\n",
    "            if not(m == k):\n",
    "                end_table[m,:] =  end_table[m,:] - enable_row * end_table[m,i]        \n",
    "        end_table = np.round_(end_table, decimals=2, out=None)\n",
    "        min_number_row = min(end_table[last_row,:])\n",
    "#     print(bases)\n",
    "    print('Конечная матрица = ', end_table)\n",
    "    #вывод значений, формирование базисов\n",
    "    bases_X = np.arange(0,len(F))*0 #лист из нулевых базисов\n",
    "    X = [0.]*len(F) #лист из нулевых иксов\n",
    "    #\n",
    "    for count in range(len(b)-1):       \n",
    "        number_basis = bases[count]   #актуальный базис в цикле из списка всех конечных базисов     \n",
    "        if number_basis in iks: \n",
    "            index_b, = np.where(bases == number_basis) #если номер базиса равен искомому номеру икса, то  \n",
    "            index_b = int(index_b) #находим индекс\n",
    "            X[number_basis-1] = float(end_table[index_b,last_colomn]) \n",
    "\n",
    "        \n",
    "#     print(X)\n",
    "    maxFunc = end_table[last_row,last_colomn]\n",
    "#     print(maxFunc)\n",
    "    return X,maxFunc"
   ]
  },
  {
   "cell_type": "code",
   "execution_count": 94,
   "metadata": {},
   "outputs": [
    {
     "name": "stdout",
     "output_type": "stream",
     "text": [
      "-5.0\n",
      "[0]\n",
      "Актуальная матрица =  [[ 32.  11.   4.   1.   0.   0. 520.]\n",
      " [  5.  16.  32.   0.   1.   0. 550.]\n",
      " [ 21.  12.   5.   0.   0.   1.  90.]\n",
      " [ -5.  -3.   0.   0.   0.   0.   0.]]\n",
      "Индекс минимального элемента в последней строке =  0\n",
      "Дополнительный столбец =  [[ 16.25      ]\n",
      " [110.        ]\n",
      " [  4.28571429]\n",
      " [  0.        ]]\n",
      "Мин. число из дополнительного столбца =  4.285714285714286\n",
      "Индекс минимального элемента в дополнительном столбце =  [2]\n",
      "Актуальная матрица =  [[ 0.0000e+00 -7.2900e+00 -3.6200e+00  1.0000e+00  0.0000e+00 -1.5200e+00\n",
      "   3.8286e+02]\n",
      " [ 0.0000e+00  1.3140e+01  3.0810e+01  0.0000e+00  1.0000e+00 -2.4000e-01\n",
      "   5.2857e+02]\n",
      " [ 1.0000e+00  5.7000e-01  2.4000e-01  0.0000e+00  0.0000e+00  5.0000e-02\n",
      "   4.2900e+00]\n",
      " [ 0.0000e+00 -1.4000e-01  1.1900e+00  0.0000e+00  0.0000e+00  2.4000e-01\n",
      "   2.1430e+01]]\n",
      "Индекс минимального элемента в последней строке =  1\n",
      "Дополнительный столбец =  [[ 52.51851852]\n",
      " [ 40.2260274 ]\n",
      " [  7.52631579]\n",
      " [153.07142857]]\n",
      "Мин. число из дополнительного столбца =  7.526315789473685\n",
      "Индекс минимального элемента в дополнительном столбце =  [2]\n",
      "Конечная матрица =  [[ 1.2790e+01  0.0000e+00 -5.5000e-01  1.0000e+00  0.0000e+00 -8.8000e-01\n",
      "   4.3773e+02]\n",
      " [-2.3050e+01  0.0000e+00  2.5280e+01  0.0000e+00  1.0000e+00 -1.3900e+00\n",
      "   4.2967e+02]\n",
      " [ 1.7500e+00  1.0000e+00  4.2000e-01  0.0000e+00  0.0000e+00  9.0000e-02\n",
      "   7.5300e+00]\n",
      " [ 2.5000e-01  0.0000e+00  1.2500e+00  0.0000e+00  0.0000e+00  2.5000e-01\n",
      "   2.2480e+01]]\n",
      "Оптимальные X =  [0.0, 7.53, 0.0]\n",
      "Значение функции при оптимальных X =  22.48\n"
     ]
    }
   ],
   "source": [
    "a = [[32, 11, 4],[5, 16, 32],[21, 12, 5]]\n",
    "b = [520, 550, 90]\n",
    "c = [5, 3, 0]\n",
    "F = c\n",
    "x,f = simplex_method(a,b,c)\n",
    "print('Оптимальные X = ', x)\n",
    "print('Значение функции при оптимальных X = ',f)"
   ]
  },
  {
   "cell_type": "code",
   "execution_count": 85,
   "metadata": {},
   "outputs": [
    {
     "name": "stdout",
     "output_type": "stream",
     "text": [
      "-8.0\n",
      "[3]\n",
      "Актуальная матрица =  [[ 32.  11.   4.   2.   1.   0.   0.   0.   0. 520.]\n",
      " [  5.  16.  32.   2.   0.   1.   0.   0.   0. 550.]\n",
      " [ 21.  12.   5.   0.   0.   0.   1.   0.   0.  90.]\n",
      " [ 15.  12.  13.  10.   0.   0.   0.   1.   0. 110.]\n",
      " [ 10.   9.   0.   8.   0.   0.   0.   0.   1. 300.]\n",
      " [ -5.  -3.  -7.  -8.   0.   0.   0.   0.   0.   0.]]\n",
      "Индекс минимального элемента в последней строке =  3\n",
      "Дополнительный столбец =  [[260. ]\n",
      " [275. ]\n",
      " [  inf]\n",
      " [ 11. ]\n",
      " [ 37.5]\n",
      " [ -0. ]]\n",
      "Мин. число из дополнительного столбца =  11.0\n",
      "Индекс минимального элемента в дополнительном столбце =  [3]\n",
      "Конечная матрица =  [[ 2.90e+01  8.60e+00  1.40e+00  0.00e+00  1.00e+00  0.00e+00  0.00e+00\n",
      "  -2.00e-01  0.00e+00  4.98e+02]\n",
      " [ 2.00e+00  1.36e+01  2.94e+01  0.00e+00  0.00e+00  1.00e+00  0.00e+00\n",
      "  -2.00e-01  0.00e+00  5.28e+02]\n",
      " [ 2.10e+01  1.20e+01  5.00e+00  0.00e+00  0.00e+00  0.00e+00  1.00e+00\n",
      "   0.00e+00  0.00e+00  9.00e+01]\n",
      " [ 1.50e+00  1.20e+00  1.30e+00  1.00e+00  0.00e+00  0.00e+00  0.00e+00\n",
      "   1.00e-01  0.00e+00  1.10e+01]\n",
      " [-2.00e+00 -6.00e-01 -1.04e+01  0.00e+00  0.00e+00  0.00e+00  0.00e+00\n",
      "  -8.00e-01  1.00e+00  2.12e+02]\n",
      " [ 7.00e+00  6.60e+00  3.40e+00  0.00e+00  0.00e+00  0.00e+00  0.00e+00\n",
      "   8.00e-01  0.00e+00  8.80e+01]]\n",
      "Оптимальные X =  [0.0, 0.0, 0.0, 11.0]\n",
      "Значение функции при оптимальных X =  88.0\n"
     ]
    },
    {
     "name": "stderr",
     "output_type": "stream",
     "text": [
      "C:\\Users\\maksimov\\Anaconda3\\lib\\site-packages\\ipykernel_launcher.py:39: RuntimeWarning: divide by zero encountered in double_scalars\n"
     ]
    }
   ],
   "source": [
    "a = [[32, 11, 4, 2],[5, 16, 32,2],[21, 12, 5, 0],[15, 12, 13,10],[10, 9, 0,8]]\n",
    "b = [520, 550, 90, 110, 300]\n",
    "c = [5, 3, 7, 8]\n",
    "x,f = simplex_method(a,b,c)\n",
    "print('Оптимальные X = ', x)\n",
    "print('Значение функции при оптимальных X = ',f)"
   ]
  },
  {
   "cell_type": "code",
   "execution_count": null,
   "metadata": {},
   "outputs": [],
   "source": []
  }
 ],
 "metadata": {
  "kernelspec": {
   "display_name": "Python 3",
   "language": "python",
   "name": "python3"
  },
  "language_info": {
   "codemirror_mode": {
    "name": "ipython",
    "version": 3
   },
   "file_extension": ".py",
   "mimetype": "text/x-python",
   "name": "python",
   "nbconvert_exporter": "python",
   "pygments_lexer": "ipython3",
   "version": "3.7.4"
  }
 },
 "nbformat": 4,
 "nbformat_minor": 2
}
